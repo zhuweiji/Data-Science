{
 "cells": [
  {
   "cell_type": "code",
   "execution_count": null,
   "metadata": {},
   "outputs": [],
   "source": [
    "conda install -c https://conda.anaconda.org/anaconda pandas-datareader\n",
    "\n",
    "import pandas as pd\n",
    "import pandas_datareader.data as web\n",
    "import matplotlib.pyplot as plt\n",
    "import matplotlib as mpl\n",
    "from matplotlib import style\n",
    "from pandas import Series, DataFrame\n",
    "import numpy as np\n",
    "import datetime"
   ]
  },
  {
   "cell_type": "code",
   "execution_count": 6,
   "metadata": {},
   "outputs": [],
   "source": [
    "%matplotlib inline"
   ]
  },
  {
   "cell_type": "code",
   "execution_count": 7,
   "metadata": {},
   "outputs": [],
   "source": [
    "style.use('ggplot')\n",
    "pd.set_option('display.max_columns',10)\n",
    "pd.set_option('display.width',500)"
   ]
  },
  {
   "cell_type": "code",
   "execution_count": 12,
   "metadata": {},
   "outputs": [],
   "source": [
    "start = datetime.datetime(2018,1,1)\n",
    "end = datetime.datetime(2020,1,1)\n",
    "\n",
    "df = web.DataReader(['AAPL','GE','GOOG','IBM'],'yahoo',start=start,end=end)  # DataReader param : stock,source,start,end\n"
   ]
  },
  {
   "cell_type": "code",
   "execution_count": 15,
   "metadata": {},
   "outputs": [
    {
     "data": {
      "text/html": [
       "<div>\n",
       "<style scoped>\n",
       "    .dataframe tbody tr th:only-of-type {\n",
       "        vertical-align: middle;\n",
       "    }\n",
       "\n",
       "    .dataframe tbody tr th {\n",
       "        vertical-align: top;\n",
       "    }\n",
       "\n",
       "    .dataframe thead th {\n",
       "        text-align: right;\n",
       "    }\n",
       "</style>\n",
       "<table border=\"1\" class=\"dataframe\">\n",
       "  <thead>\n",
       "    <tr style=\"text-align: right;\">\n",
       "      <th>Symbols</th>\n",
       "      <th>AAPL</th>\n",
       "      <th>GE</th>\n",
       "      <th>GOOG</th>\n",
       "      <th>IBM</th>\n",
       "    </tr>\n",
       "    <tr>\n",
       "      <th>Date</th>\n",
       "      <th></th>\n",
       "      <th></th>\n",
       "      <th></th>\n",
       "      <th></th>\n",
       "    </tr>\n",
       "  </thead>\n",
       "  <tbody>\n",
       "    <tr>\n",
       "      <td>2018-01-02</td>\n",
       "      <td>167.199890</td>\n",
       "      <td>16.726093</td>\n",
       "      <td>1065.000000</td>\n",
       "      <td>140.820740</td>\n",
       "    </tr>\n",
       "    <tr>\n",
       "      <td>2018-01-03</td>\n",
       "      <td>167.170776</td>\n",
       "      <td>16.884241</td>\n",
       "      <td>1082.479980</td>\n",
       "      <td>144.691605</td>\n",
       "    </tr>\n",
       "    <tr>\n",
       "      <td>2018-01-04</td>\n",
       "      <td>167.947266</td>\n",
       "      <td>17.237741</td>\n",
       "      <td>1086.400024</td>\n",
       "      <td>147.622131</td>\n",
       "    </tr>\n",
       "    <tr>\n",
       "      <td>2018-01-05</td>\n",
       "      <td>169.859406</td>\n",
       "      <td>17.247042</td>\n",
       "      <td>1102.229980</td>\n",
       "      <td>148.343353</td>\n",
       "    </tr>\n",
       "    <tr>\n",
       "      <td>2018-01-08</td>\n",
       "      <td>169.228500</td>\n",
       "      <td>17.005173</td>\n",
       "      <td>1106.939941</td>\n",
       "      <td>149.238037</td>\n",
       "    </tr>\n",
       "    <tr>\n",
       "      <td>...</td>\n",
       "      <td>...</td>\n",
       "      <td>...</td>\n",
       "      <td>...</td>\n",
       "      <td>...</td>\n",
       "    </tr>\n",
       "    <tr>\n",
       "      <td>2019-12-24</td>\n",
       "      <td>284.269989</td>\n",
       "      <td>11.190000</td>\n",
       "      <td>1343.560059</td>\n",
       "      <td>134.979996</td>\n",
       "    </tr>\n",
       "    <tr>\n",
       "      <td>2019-12-26</td>\n",
       "      <td>289.910004</td>\n",
       "      <td>11.230000</td>\n",
       "      <td>1360.400024</td>\n",
       "      <td>134.910004</td>\n",
       "    </tr>\n",
       "    <tr>\n",
       "      <td>2019-12-27</td>\n",
       "      <td>289.799988</td>\n",
       "      <td>11.180000</td>\n",
       "      <td>1351.890015</td>\n",
       "      <td>135.270004</td>\n",
       "    </tr>\n",
       "    <tr>\n",
       "      <td>2019-12-30</td>\n",
       "      <td>291.519989</td>\n",
       "      <td>11.080000</td>\n",
       "      <td>1336.140015</td>\n",
       "      <td>132.809998</td>\n",
       "    </tr>\n",
       "    <tr>\n",
       "      <td>2019-12-31</td>\n",
       "      <td>293.649994</td>\n",
       "      <td>11.160000</td>\n",
       "      <td>1337.020020</td>\n",
       "      <td>134.039993</td>\n",
       "    </tr>\n",
       "  </tbody>\n",
       "</table>\n",
       "<p>503 rows × 4 columns</p>\n",
       "</div>"
      ],
      "text/plain": [
       "Symbols           AAPL         GE         GOOG         IBM\n",
       "Date                                                      \n",
       "2018-01-02  167.199890  16.726093  1065.000000  140.820740\n",
       "2018-01-03  167.170776  16.884241  1082.479980  144.691605\n",
       "2018-01-04  167.947266  17.237741  1086.400024  147.622131\n",
       "2018-01-05  169.859406  17.247042  1102.229980  148.343353\n",
       "2018-01-08  169.228500  17.005173  1106.939941  149.238037\n",
       "...                ...        ...          ...         ...\n",
       "2019-12-24  284.269989  11.190000  1343.560059  134.979996\n",
       "2019-12-26  289.910004  11.230000  1360.400024  134.910004\n",
       "2019-12-27  289.799988  11.180000  1351.890015  135.270004\n",
       "2019-12-30  291.519989  11.080000  1336.140015  132.809998\n",
       "2019-12-31  293.649994  11.160000  1337.020020  134.039993\n",
       "\n",
       "[503 rows x 4 columns]"
      ]
     },
     "execution_count": 15,
     "metadata": {},
     "output_type": "execute_result"
    }
   ],
   "source": [
    "df['Adj Close']"
   ]
  },
  {
   "cell_type": "code",
   "execution_count": 23,
   "metadata": {},
   "outputs": [],
   "source": [
    "close_px = df[\"Adj Close\"]['AAPL']\n",
    "mavg = close_px.rolling(window=100)"
   ]
  },
  {
   "cell_type": "code",
   "execution_count": 26,
   "metadata": {},
   "outputs": [],
   "source": [
    "retscomp = df.pct_change()\n",
    "corr = retscomp.corr()"
   ]
  },
  {
   "cell_type": "code",
   "execution_count": 28,
   "metadata": {},
   "outputs": [
    {
     "data": {
      "image/png": "[encoded data removed]",
      "text/plain": [
       "<Figure size 432x288 with 1 Axes>"
      ]
     },
     "metadata": {},
     "output_type": "display_data"
    }
   ],
   "source": [
    "plt.scatter(retscomp.mean(), retscomp.std())\n",
    "plt.xlabel('Expected returns')\n",
    "plt.ylabel('Risk')\n",
    "for label, x, y in zip(retscomp.columns, retscomp.mean(), retscomp.std()):\n",
    "    plt.annotate(\n",
    "        label, \n",
    "        xy = (x, y), xytext = (20, -20),\n",
    "        textcoords = 'offset points', ha = 'right', va = 'bottom',\n",
    "        bbox = dict(boxstyle = 'round,pad=0.5', fc = 'yellow', alpha = 0.5),\n",
    "        arrowprops = dict(arrowstyle = '->', connectionstyle = 'arc3,rad=0'))"
   ]
  },
  {
   "cell_type": "code",
   "execution_count": null,
   "metadata": {},
   "outputs": [],
   "source": []
  }
 ],
 "metadata": {
  "kernelspec": {
   "display_name": "Python 3",
   "language": "python",
   "name": "python3"
  },
  "language_info": {
   "codemirror_mode": {
    "name": "ipython",
    "version": 3
   },
   "file_extension": ".py",
   "mimetype": "text/x-python",
   "name": "python",
   "nbconvert_exporter": "python",
   "pygments_lexer": "ipython3",
   "version": "3.7.4"
  }
 },
 "nbformat": 4,
 "nbformat_minor": 2
}
