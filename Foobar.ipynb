{
 "cells": [
  {
   "cell_type": "code",
   "execution_count": 1,
   "metadata": {},
   "outputs": [],
   "source": [
    "import pandas as pd\n",
    "import numpy as np\n",
    "import time"
   ]
  },
  {
   "cell_type": "code",
   "execution_count": 6,
   "metadata": {},
   "outputs": [
    {
     "name": "stdout",
     "output_type": "stream",
     "text": [
      "0 0    0\n",
      "1    0\n",
      "2    1\n",
      "Name: 0, dtype: int64\n",
      "1 0    0\n",
      "1    1\n",
      "2    2\n",
      "Name: 1, dtype: int64\n",
      "2 0    1\n",
      "1    0\n",
      "2    3\n",
      "Name: 2, dtype: int64\n",
      "3 0    1\n",
      "1    1\n",
      "2    4\n",
      "Name: 3, dtype: int64\n"
     ]
    }
   ],
   "source": [
    "lsit= [['x1','y1','z1'],[0,1,2],[1,0,3],[1,1,4]]\n",
    "dataset = pd.DataFrame(lsit)\n",
    "for row, column in dataset.iterrows():\n",
    "    print(row,column)\n"
   ]
  },
  {
   "cell_type": "code",
   "execution_count": 13,
   "metadata": {},
   "outputs": [],
   "source": [
    "homerow = ['x','y','z']\n",
    "list1 = []\n",
    "list2 = []\n",
    "for i in range(2):\n",
    "    for foo, bar in enumerate(homerow):\n",
    "        list1.append([bar+str(i)])\n",
    "    list2 = list1"
   ]
  },
  {
   "cell_type": "code",
   "execution_count": 14,
   "metadata": {},
   "outputs": [
    {
     "data": {
      "text/plain": [
       "[['x0'], ['y0'], ['z0'], ['x1'], ['y1'], ['z1']]"
      ]
     },
     "execution_count": 14,
     "metadata": {},
     "output_type": "execute_result"
    }
   ],
   "source": [
    "list1"
   ]
  },
  {
   "cell_type": "code",
   "execution_count": null,
   "metadata": {},
   "outputs": [],
   "source": [
    "[['x1','y1','z1'],['x2','y2','z2'],..]"
   ]
  }
 ],
 "metadata": {
  "kernelspec": {
   "display_name": "Python 3",
   "language": "python",
   "name": "python3"
  },
  "language_info": {
   "codemirror_mode": {
    "name": "ipython",
    "version": 3
   },
   "file_extension": ".py",
   "mimetype": "text/x-python",
   "name": "python",
   "nbconvert_exporter": "python",
   "pygments_lexer": "ipython3",
   "version": "3.7.4"
  }
 },
 "nbformat": 4,
 "nbformat_minor": 2
}
